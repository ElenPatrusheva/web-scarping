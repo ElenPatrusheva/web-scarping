{
 "cells": [
  {
   "cell_type": "code",
   "execution_count": 1,
   "metadata": {
    "collapsed": true
   },
   "outputs": [],
   "source": [
    "import requests\n",
    "import bs4\n",
    "from bs4 import BeautifulSoup\n",
    "import pandas as pd\n",
    "import time"
   ]
  },
  {
   "cell_type": "code",
   "execution_count": 8,
   "outputs": [],
   "source": [
    "class Job:\n",
    "    url: str\n",
    "    title: str\n",
    "    description: str\n",
    "    view_url = 'https://www.indeed.com/viewjob?{}'\n",
    "    def __init__(self, title, url, description=''):\n",
    "        self.url = self.view_url.format(url)\n",
    "        self.title = title\n",
    "        self.description = description\n",
    "\n",
    "    def __str__(self):\n",
    "        return f'---------------------------------\\n' \\\n",
    "               f'Job: {self.title}\\n' \\\n",
    "               f'Click on {self.url} to see more info'"
   ],
   "metadata": {
    "collapsed": false,
    "pycharm": {
     "name": "#%%\n"
    }
   }
  },
  {
   "cell_type": "code",
   "execution_count": 16,
   "outputs": [
    {
     "name": "stdout",
     "output_type": "stream",
     "text": [
      "---------------------------------\n",
      "Job: Data Scientist, Spotify Advertising\n",
      "Click on https://www.indeed.com/viewjob?jk=cf1dfad66649138a&fccid=fe404d18bb9eef1e&vjs=3 to see more info\n",
      "---------------------------------\n",
      "Job: Data Scientist\n",
      "Click on https://www.indeed.com/viewjob?jk=20ef3cc63a82d6ac&fccid=5f1f0e6dcc6cbc83&vjs=3 to see more info\n",
      "---------------------------------\n",
      "Job: Data Scientist\n",
      "Click on https://www.indeed.com/viewjob?jk=a1585ca2108b6665&fccid=6908893b5c7af08c&vjs=3 to see more info\n",
      "---------------------------------\n",
      "Job: Data Scientist - (Remote)\n",
      "Click on https://www.indeed.com/viewjob?jk=1e822cd83198b54c&fccid=bca1c8ed48c3b338&vjs=3 to see more info\n",
      "---------------------------------\n",
      "Job: Data Scientist (Junior)\n",
      "Click on https://www.indeed.com/viewjob?jk=c1e2abfc99160b71&fccid=1068f23bdc8cad68&vjs=3 to see more info\n",
      "---------------------------------\n",
      "Job: (Junior / Senior) Data Scientist - Sports Analytics\n",
      "Click on https://www.indeed.com/viewjob?jk=f0dc7447a2cd9b32&fccid=80816981c594885b&vjs=3 to see more info\n",
      "---------------------------------\n",
      "Job: Senior Data Scientist\n",
      "Click on https://www.indeed.com/viewjob?jk=a4f5141c0dc454d8&fccid=fc68da685e8aa986&vjs=3 to see more info\n",
      "---------------------------------\n",
      "Job: Atmospheric Data Scientist\n",
      "Click on https://www.indeed.com/viewjob?jk=d84a76dbb1e815ea&fccid=10b5a4abcc6bf067&vjs=3 to see more info\n",
      "---------------------------------\n",
      "Job: Remote Data Scientist\n",
      "Click on https://www.indeed.com/viewjob?jk=83b8376e9a0d5c86&fccid=fc68da685e8aa986&vjs=3 to see more info\n",
      "---------------------------------\n",
      "Job: Staff Data Scientist\n",
      "Click on https://www.indeed.com/viewjob?jk=8d65f495120d4d9a&fccid=f3a36f726f745c17&vjs=3 to see more info\n",
      "---------------------------------\n",
      "Job: decision scientist (multiple openings) - Remote\n",
      "Click on https://www.indeed.com/viewjob?jk=3b5ae8cae87c7d62&fccid=a88e611ddef97571&vjs=3 to see more info\n",
      "---------------------------------\n",
      "Job: data scientist (multiple openings) - Remote\n",
      "Click on https://www.indeed.com/viewjob?jk=0af54ecb2f72d6a9&fccid=a88e611ddef97571&vjs=3 to see more info\n",
      "---------------------------------\n",
      "Job: Data Scientist\n",
      "Click on https://www.indeed.com/viewjob?jk=f4f924ccdcaf1822&fccid=2c62e4de04b8f952&vjs=3 to see more info\n",
      "---------------------------------\n",
      "Job: Data Scientist II\n",
      "Click on https://www.indeed.com/viewjob?jk=3f3f15b4fce128ca&fccid=40e5de3065c12562&vjs=3 to see more info\n",
      "---------------------------------\n",
      "Job: HR Analytics – Data Scientist (Remote)\n",
      "Click on https://www.indeed.com/viewjob?jk=0f3d9ca92c71056c&fccid=64e4cdd7435d8c42&vjs=3 to see more info\n",
      "---------------------------------\n",
      "Job: Data Scientist, Amazon Pharmacy\n",
      "Click on https://www.indeed.com/viewjob?jk=fa779c6bdfb5f2fc&fccid=fe2d21eef233e94a&vjs=3 to see more info\n",
      "---------------------------------\n",
      "Job: Data Scientist (Contract)\n",
      "Click on https://www.indeed.com/viewjob?jk=93d53f73aa0d8837&fccid=d072500b76ca23c2&vjs=3 to see more info\n",
      "---------------------------------\n",
      "Job: Data Scientist (Remote)\n",
      "Click on https://www.indeed.com/viewjob?jk=0072004f2d3180a4&fccid=0e94073a1c937bd1&vjs=3 to see more info\n",
      "---------------------------------\n",
      "Job: Data Scientist - QuantumBlack - University Students\n",
      "Click on https://www.indeed.com/viewjob?jk=257cac6bbdf4666d&fccid=6576e7250aa78c3c&vjs=3 to see more info\n",
      "---------------------------------\n",
      "Job: SCIENTIST - DATA REVIEW\n",
      "Click on https://www.indeed.com/viewjob?jk=37650f4abed6e87c&fccid=5e93bbb0f296b0b5&vjs=3 to see more info\n",
      "---------------------------------\n",
      "Job: Data Scientist\n",
      "Click on https://www.indeed.com/viewjob?jk=64401eef74259e9a&fccid=5aaef85f2f1e4dc1&vjs=3 to see more info\n",
      "---------------------------------\n",
      "Job: AI/ML Data Scientist\n",
      "Click on https://www.indeed.com/viewjob?jk=5c177620a34dab67&fccid=0bed8e17bc113980&vjs=3 to see more info\n",
      "---------------------------------\n",
      "Job: Junior Data Scientist\n",
      "Click on https://www.indeed.com/viewjob?jk=849bceb271a6a5e4&fccid=9a4f13cfc6042a6a&vjs=3 to see more info\n",
      "---------------------------------\n",
      "Job: Entry Level Data Review Scientist\n",
      "Click on https://www.indeed.com/viewjob?jk=b0a06121081deb31&fccid=da33f48dbeb2e889&vjs=3 to see more info\n",
      "---------------------------------\n",
      "Job: Data Scientist\n",
      "Click on https://www.indeed.com/viewjob?jk=e977b4b88147ef90&fccid=734cb5a01ee60f80&vjs=3 to see more info\n",
      "---------------------------------\n",
      "Job: Data Scientist\n",
      "Click on https://www.indeed.com/viewjob?jk=5b5da1c5fb5769a9&fccid=a21694cd29ba9002&vjs=3 to see more info\n",
      "---------------------------------\n",
      "Job: DATA SCIENTIST\n",
      "Click on https://www.indeed.com/viewjob?jk=5fbb9e0bbc300002&fccid=dd616958bd9ddc12&vjs=3 to see more info\n",
      "---------------------------------\n",
      "Job: Data Scientist\n",
      "Click on https://www.indeed.com/viewjob?jk=667f644c462c782e&fccid=ec00141efcac3522&vjs=3 to see more info\n",
      "---------------------------------\n",
      "Job: Data Scientist - Remote\n",
      "Click on https://www.indeed.com/viewjob?jk=299bcdc73e695e40&fccid=afd6e70abde66661&vjs=3 to see more info\n",
      "---------------------------------\n",
      "Job: Data Scientist\n",
      "Click on https://www.indeed.com/viewjob?jk=4db17b89f1c30208&fccid=5cc0cdc6dbb121cc&vjs=3 to see more info\n"
     ]
    }
   ],
   "source": [
    "url = \"https://www.indeed.com/jobs\"\n",
    "def parse_10(num_page):\n",
    "    res_jobs = []\n",
    "    args = {'q': 'data scientist', 'start': num_page * 10}\n",
    "    page = requests.get(url, params=args)\n",
    "    # specifying a desired format of “page” using the html parser - this allows python to read the various components of the page, rather than treating it as one long string.\n",
    "    soup = BeautifulSoup(page.text, \"html.parser\")\n",
    "    # printing soup in a more structured tree format that makes for easier reading\n",
    "    res = soup.findAll('div', attrs={'id': 'mosaic-provider-jobcards'})\n",
    "    jobs = res[0]\n",
    "    i = 0\n",
    "    for job in jobs.findAll('div', attrs={'class': 'cardOutline'}):\n",
    "        job_description = job.findAll('div', attrs={'class': 'job-snippet'})\n",
    "        try:\n",
    "            i+=1\n",
    "            job_header = job.find('h2', {'class': 'jobTitle'}).find('a')\n",
    "            job_obj = Job(\n",
    "                job_header.text,\n",
    "                job_header['href'].split('?')[-1],\n",
    "                job_description[0].find('li').text\n",
    "            )\n",
    "            print(job_obj)\n",
    "            res_jobs.append(job_obj)\n",
    "        except Exception as e:\n",
    "            print(e)\n",
    "    return res_jobs\n",
    "all_jobs = []\n",
    "for i in range(2):\n",
    "    all_jobs.extend(parse_10(i))"
   ],
   "metadata": {
    "collapsed": false,
    "pycharm": {
     "name": "#%%\n"
    }
   }
  },
  {
   "cell_type": "code",
   "execution_count": null,
   "outputs": [],
   "source": [],
   "metadata": {
    "collapsed": false,
    "pycharm": {
     "name": "#%%\n"
    }
   }
  }
 ],
 "metadata": {
  "kernelspec": {
   "display_name": "Python 3",
   "language": "python",
   "name": "python3"
  },
  "language_info": {
   "codemirror_mode": {
    "name": "ipython",
    "version": 2
   },
   "file_extension": ".py",
   "mimetype": "text/x-python",
   "name": "python",
   "nbconvert_exporter": "python",
   "pygments_lexer": "ipython2",
   "version": "2.7.6"
  }
 },
 "nbformat": 4,
 "nbformat_minor": 0
}